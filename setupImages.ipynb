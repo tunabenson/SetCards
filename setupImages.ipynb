{
 "cells": [
  {
   "cell_type": "markdown",
   "id": "f6f82c12",
   "metadata": {},
   "source": [
    "Script for Image Cleaning and Preperation to use for KNN Classification (Set Cards)"
   ]
  },
  {
   "cell_type": "code",
   "execution_count": 1,
   "id": "initial_id",
   "metadata": {
    "ExecuteTime": {
     "end_time": "2024-05-20T17:07:06.264702Z",
     "start_time": "2024-05-20T17:06:58.815623Z"
    },
    "collapsed": true
   },
   "outputs": [
    {
     "name": "stdout",
     "output_type": "stream",
     "text": [
      "Defaulting to user installation because normal site-packages is not writeable\n",
      "Collecting wand\n",
      "  Downloading Wand-0.6.13-py2.py3-none-any.whl.metadata (4.0 kB)\n",
      "Downloading Wand-0.6.13-py2.py3-none-any.whl (143 kB)\n",
      "   ---------------------------------------- 0.0/143.8 kB ? eta -:--:--\n",
      "   ---------------------------------------- 143.8/143.8 kB 8.9 MB/s eta 0:00:00\n",
      "Installing collected packages: wand\n",
      "Successfully installed wand-0.6.13\n"
     ]
    },
    {
     "name": "stderr",
     "output_type": "stream",
     "text": [
      "\n",
      "[notice] A new release of pip is available: 24.1.1 -> 25.2\n",
      "[notice] To update, run: C:\\Users\\OfekK\\AppData\\Local\\Microsoft\\WindowsApps\\PythonSoftwareFoundation.Python.3.12_qbz5n2kfra8p0\\python.exe -m pip install --upgrade pip\n"
     ]
    },
    {
     "name": "stdout",
     "output_type": "stream",
     "text": [
      "Defaulting to user installation because normal site-packages is not writeable\n",
      "Requirement already satisfied: opencv-python in c:\\users\\ofekk\\appdata\\local\\packages\\pythonsoftwarefoundation.python.3.12_qbz5n2kfra8p0\\localcache\\local-packages\\python312\\site-packages (4.10.0.84)\n",
      "Requirement already satisfied: numpy>=1.21.2 in c:\\users\\ofekk\\appdata\\local\\packages\\pythonsoftwarefoundation.python.3.12_qbz5n2kfra8p0\\localcache\\local-packages\\python312\\site-packages (from opencv-python) (2.1.2)\n"
     ]
    },
    {
     "name": "stderr",
     "output_type": "stream",
     "text": [
      "\n",
      "[notice] A new release of pip is available: 24.1.1 -> 25.2\n",
      "[notice] To update, run: C:\\Users\\OfekK\\AppData\\Local\\Microsoft\\WindowsApps\\PythonSoftwareFoundation.Python.3.12_qbz5n2kfra8p0\\python.exe -m pip install --upgrade pip\n"
     ]
    }
   ],
   "source": [
    "!pip install wand\n",
    "!pip install opencv-python"
   ]
  },
  {
   "cell_type": "code",
   "execution_count": 2,
   "id": "b9c4250a6cd93473",
   "metadata": {
    "ExecuteTime": {
     "end_time": "2024-05-23T18:05:42.826571Z",
     "start_time": "2024-05-23T18:05:40.742699Z"
    },
    "collapsed": false
   },
   "outputs": [
    {
     "ename": "SyntaxError",
     "evalue": "expected ':' (1518569849.py, line 7)",
     "output_type": "error",
     "traceback": [
      "  \u001b[36mCell\u001b[39m\u001b[36m \u001b[39m\u001b[32mIn[2]\u001b[39m\u001b[32m, line 7\u001b[39m\n\u001b[31m    \u001b[39m\u001b[31mfor subdir, dirs, files in os.walk()\u001b[39m\n                                        ^\n\u001b[31mSyntaxError\u001b[39m\u001b[31m:\u001b[39m expected ':'\n"
     ]
    }
   ],
   "source": [
    "from wand.image import Image\n",
    "import os\n",
    "import cv2\n",
    "\n",
    "sourceFolder=\"./original\"\n",
    "targetFolder=\"./original\"\n",
    "for subdir, dirs, files in os.walk()\n",
    "for file in os.listdir(sourceFolder):\n",
    "   sourceFile=sourceFolder + \"/\" + file\n",
    "   targetFile=targetFolder + \"/\" +file\n",
    "   img= cv2.imread(sourceFile)\n",
    "   img=cv2.cvtColor(img,cv2.COLOR_BGR2GRAY)\n",
    "   cv2.imwrite(targetFile,img)\n",
    "   "
   ]
  },
  {
   "cell_type": "code",
   "execution_count": null,
   "id": "1fe7ff69c44a2405",
   "metadata": {
    "ExecuteTime": {
     "end_time": "2024-05-20T21:07:52.678703Z",
     "start_time": "2024-05-20T21:07:34.595327Z"
    },
    "collapsed": false
   },
   "outputs": [],
   "source": [
    "import cv2\n",
    "import numpy as np\n",
    "import os\n",
    "\n",
    "targetFolder=\"./reformattedFolder\"\n",
    "for file in os.listdir(targetFolder):\n",
    "    image = cv2.imread(targetFolder + \"/\"+ file)\n",
    "    image=cv2.resize(image, (0, 0), fx=0.08,fy=0.08)\n",
    "\n",
    "    original =image.copy()\n",
    "    gray = cv2.cvtColor(image, cv2.COLOR_BGR2GRAY)\n",
    "    thresh = cv2.threshold(gray, 0, 255, cv2.THRESH_BINARY + cv2.THRESH_OTSU)[1]\n",
    "\n",
    "# Morph open to remove noise\n",
    "    kernel = cv2.getStructuringElement(cv2.MORPH_RECT, (5,5))\n",
    "    opening = cv2.morphologyEx(thresh, cv2.MORPH_OPEN, kernel, iterations=1)\n",
    "\n",
    "# Find contours, obtain bounding box\n",
    "    bounds = cv2.findContours(thresh, cv2.RETR_EXTERNAL, cv2.CHAIN_APPROX_SIMPLE)\n",
    "    bounds = bounds[0] if len(bounds) == 2 else bounds[1]\n",
    "    bounds=sorted(bounds, key=cv2.contourArea, reverse=True)\n",
    "    for c in bounds:\n",
    "        if 3000 < cv2.contourArea(c):\n",
    "            x,y,w,h = cv2.boundingRect(c)\n",
    "            cv2.rectangle(image, (x, y), (x + w, y + h), (36,255,12), 2)\n",
    "            cropped = original[y:y+h, x:x+w]\n",
    "            cv2.imwrite(\"./final/\"+file, cropped)\n",
    "            break"
   ]
  },
  {
   "cell_type": "code",
   "execution_count": null,
   "id": "5c675979fe51fb85",
   "metadata": {
    "ExecuteTime": {
     "end_time": "2024-05-21T22:37:26.105376Z",
     "start_time": "2024-05-21T22:37:25.230026Z"
    },
    "collapsed": false
   },
   "outputs": [],
   "source": [
    "import cv2\n",
    "import os\n",
    "\n",
    "counter=0\n",
    "for file in os.listdir('./cropped'):\n",
    "    img=cv2.imread('./cropped/'+file)\n",
    "    img=cv2.cvtColor(img, cv2.COLOR_BGR2GRAY)\n",
    "    img=cv2.rotate(img, cv2.ROTATE_90_COUNTERCLOCKWISE)\n",
    "    cv2.imwrite(\"./finalROR/image_\"+str(counter)+\".jpg\", img)\n",
    "    counter+=1"
   ]
  }
 ],
 "metadata": {
  "kernelspec": {
   "display_name": "Python 3",
   "language": "python",
   "name": "python3"
  },
  "language_info": {
   "codemirror_mode": {
    "name": "ipython",
    "version": 3
   },
   "file_extension": ".py",
   "mimetype": "text/x-python",
   "name": "python",
   "nbconvert_exporter": "python",
   "pygments_lexer": "ipython3",
   "version": "3.12.10"
  }
 },
 "nbformat": 4,
 "nbformat_minor": 5
}
